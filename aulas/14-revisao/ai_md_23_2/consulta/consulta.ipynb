{
 "cells": [
  {
   "cell_type": "markdown",
   "metadata": {},
   "source": [
    "TIPOS DE OPERAÇÕES NO SQL \n",
    "=========================\n",
    "\n",
    "DDL (Data Definition Language)\n",
    "-----------------------------\n",
    "- CREATE: criação de tabelas, índices, etc.\n",
    "- ALTER: alteração de tabelas, índices, etc.\n",
    "- DROP: exclusão de tabelas, índices, etc.\n",
    "- TRUNCATE: limpeza de tabelas.\n",
    "- COMMENT: adição de comentários em tabelas, colunas, etc.\n",
    "\n",
    "DML (Data Manipulation Language)\n",
    "--------------------------------\n",
    "\n",
    "- SELECT: consulta de dados.\n",
    "- INSERT: inserção de dados.\n",
    "- UPDATE: atualização de dados.\n",
    "- DELETE: exclusão de dados.\n",
    "\n",
    "DCL (Data Control Language)\n",
    "---------------------------\n",
    "\n",
    "- GRANT: concede privilégios.\n",
    "- REVOKE: revoga privilégios.\n"
   ]
  },
  {
   "cell_type": "markdown",
   "metadata": {},
   "source": []
  },
  {
   "cell_type": "markdown",
   "metadata": {},
   "source": [
    "sql_ex09 = \"\"\"\n",
    "CREATE TABLE IF NOT EXISTS usuario_has_comunidade(\n",
    "id_usuario INT NOT NULL,\n",
    "id_comunidade INT NOT NULL,\n",
    "PRIMARY KEY (id_usuario, id_comunidade)\n",
    ");\n",
    "ALTER TABLE usuario_has_comunidade ADD FOREIGN KEY (id_usuario) REFERENCES usuario(id_usuario);\n",
    "ALTER TABLE usuario_has_comunidade ADD FOREIGN KEY (id_comunidade) REFERENCES comunidade(id_comunidade);\n",
    "\"\"\"\n",
    "\n",
    "\n",
    "#### EXEMPLO DE CRIAÇÃO DE TABELA COM COLUNA IDENTIFICADORA POR CONTA DAS CHAVES ESTRANGEIRAS QUE TAMÉM SÃO CHAVES PRIMÁRIAS\n",
    "======================================================================================================================="
   ]
  },
  {
   "cell_type": "markdown",
   "metadata": {},
   "source": [
    "Me de exemplo de criação de tabela com foreign key :\n",
    "\n",
    "```sql\n",
    "CREATE TABLE IF NOT EXISTS usuario_has_comunidade(\n",
    "id_usuario INT NOT NULL,\n",
    "id_comunidade INT NOT NULL,\n",
    "PRIMARY KEY (id_usuario, id_comunidade)\n",
    ");\n",
    "ALTER TABLE usuario_has_comunidade ADD FOREIGN KEY (id_usuario) REFERENCES usuario(id_usuario);\n",
    "ALTER TABLE usuario_has_comunidade ADD FOREIGN KEY (id_comunidade) REFERENCES comunidade(id_comunidade);\n",
    "```\n",
    "\n",
    "Neste exemplo, a tabela `usuario_has_comunidade` possui duas colunas `id_usuario` e `id_comunidade` que são chaves estrangeiras e chaves primárias ao mesmo tempo. A chave primária é composta pelas duas colunas. As chaves estrangeiras referenciam as tabelas `usuario` e `comunidade` respectivamente.\n",
    "\n",
    "\n",
    "é possível criar as chaves junto com a criação da tabela, como no exemplo abaixo:\n",
    "\n",
    "```sql\n",
    "CREATE TABLE IF NOT EXISTS usuario_has_comunidade(\n",
    "id_usuario INT NOT NULL,\n",
    "id_comunidade INT NOT NULL,\n",
    "PRIMARY KEY (id_usuario, id_comunidade),\n",
    "FOREIGN KEY (id_usuario) REFERENCES usuario(id_usuario),\n",
    "FOREIGN KEY (id_comunidade) REFERENCES comunidade(id_comunidade)\n",
    ");\n",
    "```"
   ]
  },
  {
   "cell_type": "markdown",
   "metadata": {},
   "source": [
    "### Exemplos de query que modificam a estrutura de uma tabela\n",
    "\n",
    "```sql\n",
    "ALTER TABLE usuario_has_comunidade ADD COLUMN data_criacao DATE;\n",
    "ALTER TABLE usuario_has_comunidade DROP COLUMN data_criacao;\n",
    "ALTER TABLE usuario_has_comunidade MODIFY COLUMN id_usuario INT NOT NULL;\n",
    "ALTER TABLE usuario_has_comunidade RENAME TO usuario_comunidade;\n",
    "``` \n",
    "\n"
   ]
  },
  {
   "cell_type": "markdown",
   "metadata": {},
   "source": [
    "### Exemplos de query que insere, atualiza e deleta dados\n",
    "\n",
    "```sql\n",
    "INSERT INTO usuario_has_comunidade (id_usuario, id_comunidade) VALUES (1, 1);\n",
    "UPDATE usuario_has_comunidade SET id_usuario = 2 WHERE id_usuario = 1;\n",
    "DELETE FROM usuario_has_comunidade WHERE id_usuario = 2;\n",
    "```\n"
   ]
  },
  {
   "cell_type": "markdown",
   "metadata": {},
   "source": [
    "### Exemplo que insere a partir de um select\n",
    "\n",
    "```sql\n",
    "INSERT INTO usuario_has_comunidade (id_usuario, id_comunidade) SELECT id_usuario, id_comunidade FROM usuario_comunidade WHERE id_usuario = 1;\n",
    "```\n",
    "\n",
    "### Exemplo de query que concede e revoga privilégios\n",
    "\n",
    "```sql\n",
    "GRANT SELECT, INSERT ON usuario_has_comunidade TO user1;\n",
    "REVOKE INSERT ON usuario_has_comunidade FROM user1;\n",
    "```\n",
    "\n",
    "### Exemplo de query que cria usuário \n",
    "\n",
    "```sql\n",
    "CREATE USER 'user1'@'localhost' IDENTIFIED BY 'password';\n",
    "```\n",
    "##### Agora com acesso a qualquer host\n",
    "\n",
    "```sql\n",
    "CREATE USER 'user1'@'%' IDENTIFIED BY 'password';\n",
    "```\n"
   ]
  },
  {
   "cell_type": "markdown",
   "metadata": {},
   "source": []
  }
 ],
 "metadata": {
  "language_info": {
   "name": "python"
  }
 },
 "nbformat": 4,
 "nbformat_minor": 2
}
