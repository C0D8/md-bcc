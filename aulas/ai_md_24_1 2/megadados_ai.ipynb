{
 "cells": [
  {
   "cell_type": "markdown",
   "id": "f62ded59",
   "metadata": {},
   "source": [
    "# AI MEGADADOS 24-1"
   ]
  },
  {
   "cell_type": "markdown",
   "id": "ee1fa31d",
   "metadata": {},
   "source": [
    "**NOME**: Matheus Aguiar de Jesus"
   ]
  },
  {
   "cell_type": "markdown",
   "id": "347b3f0a",
   "metadata": {},
   "source": [
    "## Parte 1 - Autocar!\n",
    "\n",
    "Na parte 1 da prova de Megadados, iremos trabalhar com a base de dados sintética **autocar**. Esta base modela um cenário de manutenção de automóveis.\n",
    "\n",
    "Ao levar um automóvel para manutenção, é criada uma **ordem de serviço**. Na ordem de serviço, são incluídos **serviços** realizados, para que o cliente pague pela mão de obra (limpeza, desmontagem). Ainda, também é possível incluir **peças** na ordem de serviço (pastilhas de freios, engrenagens).\n",
    "\n",
    "### Instalação da base\n",
    "\n",
    "Execute os scripts `autocar.sql` no MySQL Workbench. Este script cria uma base `autocar` e insere alguns dados de exemplo para resolução da prova.\n",
    "\n",
    "A base pode ser representada pelo seguinte diagrama do model orelacional (diagrama ER):\n",
    "\n",
    "<img src=\"img/deer_autocar.png\">"
   ]
  },
  {
   "cell_type": "markdown",
   "id": "f1b22c4b",
   "metadata": {},
   "source": [
    "### Insper autograding!\n",
    "\n",
    "Para receber feedback dos exercício na parte 1, iremos utilizar o `insper autograding`. Garanta que a biblioteca está instalada em seu ambiente Python.\n",
    "\n",
    "**Sugestão**: para aproveitar o `.env`, crie uma pasta para a prova no mesmo local onde costuma deixar as pastas das **aulas**!"
   ]
  },
  {
   "cell_type": "markdown",
   "id": "69ee33d4",
   "metadata": {},
   "source": [
    "## Como resolver os exercícios?\n",
    "\n",
    "Crie a base da prova em sua máquina (passo anterior). Utilize o MySQL Workbench ou o conector para testar as queries. Quando estiver bastante certo de que a resposta está correta, faça a submissão para o servidor.\n",
    "\n",
    "Em alguns momentos, pode ser necessário analisar a resposta esperada do servidor para entender modificações na sua solução, mesmo que não seja algo explícito no enunciado.\n",
    "\n",
    "## Import das bibliotecas\n",
    "\n",
    "Vamos realizar o import das bibliotecas."
   ]
  },
  {
   "cell_type": "code",
   "execution_count": 1,
   "id": "b2f1597a",
   "metadata": {},
   "outputs": [],
   "source": [
    "import mysql.connector\n",
    "from functools import partial\n",
    "import os\n",
    "import insperautograder.jupyter as ia\n",
    "from dotenv import load_dotenv"
   ]
  },
  {
   "cell_type": "markdown",
   "id": "33eefa0d",
   "metadata": {},
   "source": [
    "E vamos criar nosso HELPER de conexão com o banco! Perceba que, uma vez configurado o `.env` não precisaremos mais informar usuários, senhas e URLs!"
   ]
  },
  {
   "cell_type": "code",
   "execution_count": 2,
   "id": "f5147533",
   "metadata": {},
   "outputs": [],
   "source": [
    "load_dotenv(override=True)\n",
    "\n",
    "def get_connection_helper():\n",
    "\n",
    "    def run_db_query(connection, query, args=None):\n",
    "        with connection.cursor() as cursor:\n",
    "            print(\"Executando query:\")\n",
    "            cursor.execute(query, args)\n",
    "            for result in cursor:\n",
    "                print(result)\n",
    "\n",
    "    connection = mysql.connector.connect(\n",
    "        host=os.getenv(\"MD_DB_SERVER\"),\n",
    "        user=os.getenv(\"MD_DB_USERNAME\"),\n",
    "        password=os.getenv(\"MD_DB_PASSWORD\"),\n",
    "        database=\"autocar\",\n",
    "    )\n",
    "    return connection, partial(run_db_query, connection)\n",
    "\n",
    "\n",
    "connection, db = get_connection_helper()"
   ]
  },
  {
   "cell_type": "markdown",
   "id": "86e481dc",
   "metadata": {},
   "source": [
    "### Notas\n",
    "\n",
    "Para conferir a nota da correção automática da prova, utilize:"
   ]
  },
  {
   "cell_type": "code",
   "execution_count": 3,
   "id": "9d0c9a82",
   "metadata": {},
   "outputs": [
    {
     "data": {
      "text/markdown": [
       "|    | Atividade   | Exercício   |   Peso |   Nota |\n",
       "|---:|:------------|:------------|-------:|-------:|\n",
       "|  0 | ai_md_24_1  | ex01        |      2 |      0 |\n",
       "|  1 | ai_md_24_1  | ex02        |      2 |      0 |\n",
       "|  2 | ai_md_24_1  | ex03        |      2 |      0 |\n",
       "|  3 | ai_md_24_1  | ex04        |      2 |      0 |\n",
       "|  4 | ai_md_24_1  | ex05        |      4 |      0 |\n",
       "|  5 | ai_md_24_1  | ex06        |      2 |      0 |\n",
       "|  6 | ai_md_24_1  | ex07        |      2 |      0 |"
      ],
      "text/plain": [
       "<IPython.core.display.Markdown object>"
      ]
     },
     "metadata": {},
     "output_type": "display_data"
    }
   ],
   "source": [
    "ia.grades(task=\"ai_md_24_1\")"
   ]
  },
  {
   "cell_type": "code",
   "execution_count": 4,
   "id": "088634f3",
   "metadata": {},
   "outputs": [
    {
     "data": {
      "text/markdown": [
       "|    | Tarefa     |   Nota |\n",
       "|---:|:-----------|-------:|\n",
       "|  0 | ai_md_24_1 |      0 |"
      ],
      "text/plain": [
       "<IPython.core.display.Markdown object>"
      ]
     },
     "metadata": {},
     "output_type": "display_data"
    }
   ],
   "source": [
    "ia.grades(by=\"TASK\", task=\"ai_md_24_1\")"
   ]
  },
  {
   "cell_type": "markdown",
   "id": "c210879c",
   "metadata": {},
   "source": [
    "**Obs**:\n",
    "\n",
    "- As questões 1 a 7 valem **6.0 pontos** na nota da prova.\n",
    "    - Estas questões serão corrigidas **apenas** pela correção automática. Não haverá nota manual.\n",
    "    - Confira os pesos pela API.\n",
    "    - No servidor, a nota da atividade estará no intervalo 0 a 10. Multiplique por `0.6` para saber a real contribuição na nota da prova.\n",
    "- A questão 8 vale **0.5 pontos** na nota da prova.\n",
    "- As questões 9 e 10 valem **3.5 pontos** na nota da prova:\n",
    "    - **2.5 pontos** para a questão 9.\n",
    "    - **1.0 pontos** para a questão 10."
   ]
  },
  {
   "cell_type": "markdown",
   "id": "8a3c8ba9",
   "metadata": {},
   "source": [
    "**Exercício 1**: Crie uma query que retorne o nome, telefone e e-mail de todos os clientes que moram em alguma avenida.\n",
    "\n",
    "**Obs**: Ordene de forma crescente pelo nome do cliente."
   ]
  },
  {
   "cell_type": "code",
   "execution_count": 5,
   "id": "49f356af",
   "metadata": {},
   "outputs": [
    {
     "name": "stdout",
     "output_type": "stream",
     "text": [
      "Executando query:\n",
      "('Maria Santos', '11-98765-4322', 'maria@email.com')\n",
      "('Paulo Oliveira', '11-99911-1234', 'paulo@email.com')\n",
      "('Pedro Pereira', '31-99874-6543', 'pedro@email.com')\n"
     ]
    }
   ],
   "source": [
    "sql_ex01 = \"\"\"\n",
    "SELECT c.nome, c.telefone, c.email FROM cliente c\n",
    "WHERE c.endereco LIKE 'Av.%' or c.endereco LIKE 'Avenida%'\n",
    "ORDER BY c.nome ASC\n",
    "\"\"\"\n",
    "\n",
    "db(sql_ex01)"
   ]
  },
  {
   "cell_type": "markdown",
   "id": "912fa816",
   "metadata": {},
   "source": [
    "Após testar localmente e considerar sua solução correta, faça o envio clicando no botão abaixo!"
   ]
  },
  {
   "cell_type": "code",
   "execution_count": 6,
   "id": "5e07ed2b",
   "metadata": {},
   "outputs": [
    {
     "data": {
      "application/vnd.jupyter.widget-view+json": {
       "model_id": "2e3818af195c4e849a890886d04a3e2f",
       "version_major": 2,
       "version_minor": 0
      },
      "text/plain": [
       "interactive(children=(Button(description='Enviar ex01', style=ButtonStyle()), Output()), _dom_classes=('widget…"
      ]
     },
     "execution_count": 6,
     "metadata": {},
     "output_type": "execute_result"
    }
   ],
   "source": [
    "ia.sender(answer=\"sql_ex01\", task=\"ai_md_24_1\", question=\"ex01\", answer_type=\"pyvar\")"
   ]
  },
  {
   "cell_type": "markdown",
   "id": "c167b70e",
   "metadata": {},
   "source": [
    "**Exercício 2**: Crie uma query que retorne o `cep`, o nome da `cidade` e o nome do `uf` dos CEPs cadastrados.\n",
    "\n",
    "Utilize a nomenclatura (`cep`, `cidade`, `uf`) e ordene de forma decrescente pelo código do CEP."
   ]
  },
  {
   "cell_type": "code",
   "execution_count": 9,
   "id": "0203756a",
   "metadata": {},
   "outputs": [
    {
     "name": "stdout",
     "output_type": "stream",
     "text": [
      "Executando query:\n",
      "('90901000', 'Porto Alegre', 'RS')\n",
      "('80000000', 'Curitiba', 'PR')\n",
      "('70002970', 'Brasília', 'DF')\n",
      "('30120000', 'Belo Horizonte', 'MG')\n",
      "('24030000', 'Niterói', 'RJ')\n",
      "('20000000', 'Rio de Janeiro', 'RJ')\n",
      "('01002200', 'São Paulo', 'SP')\n",
      "('01001000', 'São Paulo', 'SP')\n"
     ]
    }
   ],
   "source": [
    "sql_ex02 = \"\"\"\n",
    "SELECT ce.codigo AS cep, ci.nome as cidade, u.nome as uf FROM cep as ce\n",
    "INNER JOIN cidade ci USING(cidade_id)\n",
    "INNER JOIN uf u USING(uf_id)\n",
    "ORDER BY ce.codigo DESC\n",
    "\"\"\"\n",
    "\n",
    "db(sql_ex02)"
   ]
  },
  {
   "cell_type": "markdown",
   "id": "ed653f31",
   "metadata": {},
   "source": [
    "Após testar localmente e considerar sua solução correta, faça o envio clicando no botão abaixo!"
   ]
  },
  {
   "cell_type": "code",
   "execution_count": 8,
   "id": "b38f883b",
   "metadata": {},
   "outputs": [
    {
     "data": {
      "application/vnd.jupyter.widget-view+json": {
       "model_id": "1f1064dca68b46e49b0fd3b9286e7c9b",
       "version_major": 2,
       "version_minor": 0
      },
      "text/plain": [
       "interactive(children=(Button(description='Enviar ex02', style=ButtonStyle()), Output()), _dom_classes=('widget…"
      ]
     },
     "execution_count": 8,
     "metadata": {},
     "output_type": "execute_result"
    }
   ],
   "source": [
    "ia.sender(answer=\"sql_ex02\", task=\"ai_md_24_1\", question=\"ex02\", answer_type=\"pyvar\")"
   ]
  },
  {
   "cell_type": "markdown",
   "id": "a1f510dc",
   "metadata": {},
   "source": [
    "**Exercício 3**: O gestor da empresa deseja saber o preço mínimo, médio e máximo cobrado **por peça**.\n",
    "\n",
    "Crie uma query que retorne estas informações dentre as peças utilizadas nas ordens de serviço.\n",
    "\n",
    "**Obs**:\n",
    "- Nas peças, o preço representa o preço atual da peça;\n",
    "- Nas peças utilizadas, o campo de `preco` representa o preço por unidade da peça, no momento em que foi utilizada na ordem de serviço.\n",
    "- Retorne os atributos `nome` da peça,`descricao`, `preco_minimo`, `preco_medio` e `preco_maximo` (nesta ordem).\n",
    "- Ordene pelo preço médio."
   ]
  },
  {
   "cell_type": "code",
   "execution_count": 13,
   "id": "f124731c",
   "metadata": {},
   "outputs": [
    {
     "name": "stdout",
     "output_type": "stream",
     "text": [
      "Executando query:\n",
      "('Filtro de óleo', 'Filtro de óleo motor', Decimal('15.00'), Decimal('16.250000'), Decimal('20.00'))\n",
      "('Vela de ignição', 'Vela de ignição platinada', Decimal('25.00'), Decimal('25.000000'), Decimal('25.00'))\n",
      "('Gás freio', 'Cartucho de gás do freio', Decimal('35.00'), Decimal('35.000000'), Decimal('35.00'))\n",
      "('Pastilhas de freio', 'Conjunto de pastilhas', Decimal('75.00'), Decimal('77.000000'), Decimal('85.00'))\n",
      "('Bobina', 'Bobina de ignição', Decimal('90.00'), Decimal('90.000000'), Decimal('90.00'))\n",
      "('Correia dentada', 'Correia dentada do alternador', Decimal('120.00'), Decimal('120.000000'), Decimal('120.00'))\n",
      "('Suspensão', 'Amortecedor dianteiro esquerdo', Decimal('150.00'), Decimal('150.000000'), Decimal('150.00'))\n"
     ]
    }
   ],
   "source": [
    "sql_ex03 = \"\"\"\n",
    "SELECT p.nome, p.descricao, MIN(pu.preco) AS preco_minimo, AVG(pu.preco) AS preco_medio,MAX(pu.preco) AS preco_maximo FROM peca_utilizada pu\n",
    "INNER JOIN peca p \tUSING(peca_id)\n",
    "GROUP BY p.nome, p.descricao\n",
    "ORDER BY AVG(pu.preco)\n",
    "\"\"\"\n",
    "\n",
    "db(sql_ex03)"
   ]
  },
  {
   "cell_type": "markdown",
   "id": "6e1251f9",
   "metadata": {},
   "source": [
    "Após testar localmente e considerar sua solução correta, faça o envio clicando no botão abaixo!"
   ]
  },
  {
   "cell_type": "code",
   "execution_count": 11,
   "id": "4a3e71f9",
   "metadata": {},
   "outputs": [
    {
     "data": {
      "application/vnd.jupyter.widget-view+json": {
       "model_id": "3c9d66582d144db78185183c0b3d93a8",
       "version_major": 2,
       "version_minor": 0
      },
      "text/plain": [
       "interactive(children=(Button(description='Enviar ex03', style=ButtonStyle()), Output()), _dom_classes=('widget…"
      ]
     },
     "execution_count": 11,
     "metadata": {},
     "output_type": "execute_result"
    }
   ],
   "source": [
    "ia.sender(answer=\"sql_ex03\", task=\"ai_md_24_1\", question=\"ex03\", answer_type=\"pyvar\")"
   ]
  },
  {
   "cell_type": "markdown",
   "id": "7cce319d",
   "metadata": {},
   "source": [
    "**Exercício 4**: Crie uma query que retorne o código, nome, descrição e estoque das peças que ainda não tiveram uso em nenhuma ordem de serviço.\n",
    "\n",
    "**Obs**:\n",
    "- Ordene pelo nome da peça."
   ]
  },
  {
   "cell_type": "code",
   "execution_count": 17,
   "id": "d298ffce",
   "metadata": {},
   "outputs": [
    {
     "name": "stdout",
     "output_type": "stream",
     "text": [
      "Executando query:\n",
      "(7, 'Ar condicionado', 'Filtro do ar condicionado', 25)\n",
      "(10, 'Bobina', 'Bobina de ignição alta performance', 8)\n",
      "(9, 'Suspensão', 'Amortecedor traseiro esquerdo', 2)\n"
     ]
    }
   ],
   "source": [
    "sql_ex04 = \"\"\"\n",
    "SELECT p.peca_id, p.nome, p.descricao, p.estoque FROM peca p\n",
    "LEFT JOIN peca_utilizada pu USING(peca_id)\n",
    "WHERE pu.peca_utilizada_id IS NULL\n",
    "ORDER BY p.nome\n",
    "\"\"\"\n",
    "\n",
    "db(sql_ex04)"
   ]
  },
  {
   "cell_type": "markdown",
   "id": "026cb741",
   "metadata": {},
   "source": [
    "Após testar localmente e considerar sua solução correta, faça o envio clicando no botão abaixo!"
   ]
  },
  {
   "cell_type": "code",
   "execution_count": 15,
   "id": "0b32e8e4",
   "metadata": {},
   "outputs": [
    {
     "data": {
      "application/vnd.jupyter.widget-view+json": {
       "model_id": "9580187cd902433cab028e3c13e28d35",
       "version_major": 2,
       "version_minor": 0
      },
      "text/plain": [
       "interactive(children=(Button(description='Enviar ex04', style=ButtonStyle()), Output()), _dom_classes=('widget…"
      ]
     },
     "execution_count": 15,
     "metadata": {},
     "output_type": "execute_result"
    }
   ],
   "source": [
    "ia.sender(answer=\"sql_ex04\", task=\"ai_md_24_1\", question=\"ex04\", answer_type=\"pyvar\")"
   ]
  },
  {
   "cell_type": "markdown",
   "id": "ae19d0a1",
   "metadata": {},
   "source": [
    "**Exercício 5**: Crie uma query que retorne:\n",
    "\n",
    "- o `id` da ordem de serviço.\n",
    "- um texto com a descrição do `status` da ordem de serviço.\n",
    "- quantas peças diferentes foram utilizadas na ordem de serviço.\n",
    "- o valor total gasto em peças.\n",
    "- quantos serviços diferentes foram realizados na ordem de serviço.\n",
    "- o valor total gasto em serviços.\n",
    "- o valor total geral (peças e serviços) da ordem de serviço.\n",
    "\n",
    "\n",
    "**Obs**:\n",
    "- As ordens de serviço que deram maior faturamento para a empresa devem aparecer primeiro. Em caso de empate, as ordens com menor `id`  devem aparecer primeiro.\n",
    "- Ordens sem serviços (ou sem peças) devem  ser retornadas com valor zerado nos campos totalizadores correspondentes.\n",
    "- O nome das colunas deve ser: `ordem_id`, `qt_unitaria_peca`, `valor_total_peca`, `qt_unitaria_servico`, `valor_total_servico`, `valor_total_geral`.\n",
    "- Retorne apenas as ordens de serviço cujo valor total geral tenha ficado de 200 (inclusive) a 410 reais (inclusive)."
   ]
  },
  {
   "cell_type": "code",
   "execution_count": 21,
   "id": "b8a0a9bc",
   "metadata": {},
   "outputs": [
    {
     "name": "stdout",
     "output_type": "stream",
     "text": [
      "Executando query:\n",
      "(16, 'Em Andamento', 1, Decimal('300.00'), Decimal('2'), Decimal('110.00'), Decimal('410.00'))\n",
      "(6, 'Em Andamento', 1, Decimal('340.00'), Decimal('0'), Decimal('0.00'), Decimal('340.00'))\n",
      "(3, 'Concluído', 0, Decimal('0.00'), Decimal('8'), Decimal('300.00'), Decimal('300.00'))\n",
      "(4, 'Em Andamento', 1, Decimal('30.00'), Decimal('3'), Decimal('255.00'), Decimal('285.00'))\n",
      "(15, 'Em Andamento', 1, Decimal('150.00'), Decimal('2'), Decimal('125.00'), Decimal('275.00'))\n",
      "(12, 'Em Andamento', 1, Decimal('120.00'), Decimal('2'), Decimal('120.00'), Decimal('240.00'))\n",
      "(10, 'Em Andamento', 1, Decimal('225.00'), Decimal('0'), Decimal('0.00'), Decimal('225.00'))\n",
      "(13, 'Em Andamento', 1, Decimal('50.00'), Decimal('1'), Decimal('150.00'), Decimal('200.00'))\n"
     ]
    }
   ],
   "source": [
    "sql_ex05 = \"\"\"\n",
    "SELECT os.ordem_id, st.nome as status_os, COUNT(DISTINCT pu.peca_id) as qt_unitaria_peca, coalesce(SUM(pu.preco * pu.quantidade),0) as valor_total_peca, coalesce(SUM(DISTINCT sr.servico_id),0) as qt_unitaria_servico, coalesce(SUM(sr.preco),0) as valor_total_servico, coalesce(coalesce(SUM(sr.preco),0) + coalesce(SUM(pu.preco * pu.quantidade),0),0)  as valor_total_geral FROM ordem_de_servico AS os\n",
    "LEFT JOIN peca_utilizada AS pu USING(ordem_id)\n",
    "LEFT JOIN servico_realizado AS sr USING(ordem_id)\n",
    "LEFT JOIN status st USING(status_id)\n",
    "GROUP BY os.ordem_id\n",
    "HAVING valor_total_geral >= 200 AND valor_total_geral <= 410\n",
    "ORDER BY valor_total_geral DESC, os.ordem_id ASC\n",
    "\"\"\"\n",
    "\n",
    "\n",
    "# SELECT os.ordem_id, st.nome, COUNT(DISTINCT  pu.peca_id), SUM(pu.preco * pu.quantidade), SUM(DISTINCT sr.servico_id), SUM(sr.preco), SUM((pu.preco * pu.quantidade) + sr.preco) FROM ordem_de_servico AS os\n",
    "# LEFT JOIN peca_utilizada AS pu USING(ordem_id)\n",
    "# LEFT JOIN servico_realizado AS sr USING(ordem_id)\n",
    "# LEFT JOIN status st USING(status_id)\n",
    "# GROUP BY os.ordem_id\n",
    "\n",
    "db(sql_ex05)"
   ]
  },
  {
   "cell_type": "markdown",
   "id": "1865f073",
   "metadata": {},
   "source": [
    "Após testar localmente e considerar sua solução correta, faça o envio clicando no botão abaixo!"
   ]
  },
  {
   "cell_type": "code",
   "execution_count": 19,
   "id": "1e93079b",
   "metadata": {},
   "outputs": [
    {
     "data": {
      "application/vnd.jupyter.widget-view+json": {
       "model_id": "d5c1b473437448c9a8675a29dd6c9f28",
       "version_major": 2,
       "version_minor": 0
      },
      "text/plain": [
       "interactive(children=(Button(description='Enviar ex05', style=ButtonStyle()), Output()), _dom_classes=('widget…"
      ]
     },
     "execution_count": 19,
     "metadata": {},
     "output_type": "execute_result"
    }
   ],
   "source": [
    "ia.sender(answer=\"sql_ex05\", task=\"ai_md_24_1\", question=\"ex05\", answer_type=\"pyvar\")"
   ]
  },
  {
   "cell_type": "markdown",
   "id": "6d9f7e61",
   "metadata": {},
   "source": [
    "**Exercício 6**:\n",
    "\n",
    "Gerenciar uma quantidade insana de peças diferentes dá um trabalhão. Pensando nisso, o gerente lançou a promoção **\"Deu a louca no patrão!\"**.\n",
    "\n",
    "Nesta promoção, todas as peças com estoque atual em 10 unidades ou menos deve ter seu preço reduzido em 20%.\n",
    "\n",
    "Crie uma query para atualizar o preço das peças."
   ]
  },
  {
   "cell_type": "code",
   "execution_count": 22,
   "id": "632c9fc8",
   "metadata": {},
   "outputs": [
    {
     "name": "stdout",
     "output_type": "stream",
     "text": [
      "Executando query:\n"
     ]
    }
   ],
   "source": [
    "sql_ex06 = \"\"\"\n",
    "UPDATE peca SET preco = preco *0.8\n",
    "WHERE estoque <= 10\n",
    "\"\"\"\n",
    "\n",
    "db(sql_ex06)"
   ]
  },
  {
   "cell_type": "markdown",
   "id": "4bfb28da",
   "metadata": {},
   "source": [
    "Após testar localmente e considerar sua solução correta, faça o envio clicando no botão abaixo!"
   ]
  },
  {
   "cell_type": "code",
   "execution_count": 23,
   "id": "75b5ad42",
   "metadata": {},
   "outputs": [
    {
     "data": {
      "application/vnd.jupyter.widget-view+json": {
       "model_id": "2658adc6305e489785f95e62d2b5b2b1",
       "version_major": 2,
       "version_minor": 0
      },
      "text/plain": [
       "interactive(children=(Button(description='Enviar ex06', style=ButtonStyle()), Output()), _dom_classes=('widget…"
      ]
     },
     "execution_count": 23,
     "metadata": {},
     "output_type": "execute_result"
    }
   ],
   "source": [
    "ia.sender(answer=\"sql_ex06\", task=\"ai_md_24_1\", question=\"ex06\", answer_type=\"pyvar\")"
   ]
  },
  {
   "cell_type": "markdown",
   "id": "fdd6343b",
   "metadata": {},
   "source": [
    "**Exercício 7**: A tabela de `orcamento` deveria ter sido criada conforme o diagrama do modelo relacional disponibilizado pelo professor na pasta da prova e exibido no começo deste notebook. \n",
    "\n",
    "Entretanto, ela foi criada com a DDL:\n",
    "\n",
    "```sql\n",
    "CREATE TABLE orcamento (\n",
    "    orcamento_id INT PRIMARY KEY,\n",
    "    data DATE NOT NULL,\n",
    "    total DECIMAL(10,2)\n",
    ")\n",
    "```\n",
    "\n",
    "Crie uma query para corrigir a tabela, de forma que fique como o proposto no diagrama.\n",
    "\n",
    "**Obs**: Você deve alterar a tabela. Apagar e recriar não será considerada uma solução válida."
   ]
  },
  {
   "cell_type": "code",
   "execution_count": 39,
   "id": "6d443e77",
   "metadata": {},
   "outputs": [
    {
     "ename": "OperationalError",
     "evalue": "MySQL Connection not available.",
     "output_type": "error",
     "traceback": [
      "\u001b[0;31m---------------------------------------------------------------------------\u001b[0m",
      "\u001b[0;31mOperationalError\u001b[0m                          Traceback (most recent call last)",
      "Cell \u001b[0;32mIn[39], line 4\u001b[0m\n\u001b[1;32m      1\u001b[0m sql_ex07 \u001b[38;5;241m=\u001b[39m \u001b[38;5;124m\"\"\"\u001b[39m\n\u001b[1;32m      2\u001b[0m \u001b[38;5;124mALTER TABLE orcamento ADD COLUMN ordem_id INT NOT NULL, ADD FOREIGN KEY (ordem_id) REFERENCES ordem_de_servico(ordem_id), MODIFY COLUMN total DECIMAL(10,2) NOT NULL;\u001b[39m\n\u001b[1;32m      3\u001b[0m \u001b[38;5;124m\"\"\"\u001b[39m\n\u001b[0;32m----> 4\u001b[0m \u001b[43mdb\u001b[49m\u001b[43m(\u001b[49m\u001b[43msql_ex07\u001b[49m\u001b[43m)\u001b[49m\n",
      "Cell \u001b[0;32mIn[2], line 6\u001b[0m, in \u001b[0;36mget_connection_helper.<locals>.run_db_query\u001b[0;34m(connection, query, args)\u001b[0m\n\u001b[1;32m      5\u001b[0m \u001b[38;5;28;01mdef\u001b[39;00m \u001b[38;5;21mrun_db_query\u001b[39m(connection, query, args\u001b[38;5;241m=\u001b[39m\u001b[38;5;28;01mNone\u001b[39;00m):\n\u001b[0;32m----> 6\u001b[0m     \u001b[38;5;28;01mwith\u001b[39;00m \u001b[43mconnection\u001b[49m\u001b[38;5;241;43m.\u001b[39;49m\u001b[43mcursor\u001b[49m\u001b[43m(\u001b[49m\u001b[43m)\u001b[49m \u001b[38;5;28;01mas\u001b[39;00m cursor:\n\u001b[1;32m      7\u001b[0m         \u001b[38;5;28mprint\u001b[39m(\u001b[38;5;124m\"\u001b[39m\u001b[38;5;124mExecutando query:\u001b[39m\u001b[38;5;124m\"\u001b[39m)\n\u001b[1;32m      8\u001b[0m         cursor\u001b[38;5;241m.\u001b[39mexecute(query, args)\n",
      "File \u001b[0;32m~/MEGADADOS/md-bcc/env_dados/lib/python3.12/site-packages/mysql/connector/connection_cext.py:728\u001b[0m, in \u001b[0;36mCMySQLConnection.cursor\u001b[0;34m(self, buffered, raw, prepared, cursor_class, dictionary, named_tuple)\u001b[0m\n\u001b[1;32m    726\u001b[0m \u001b[38;5;28mself\u001b[39m\u001b[38;5;241m.\u001b[39mhandle_unread_result(prepared)\n\u001b[1;32m    727\u001b[0m \u001b[38;5;28;01mif\u001b[39;00m \u001b[38;5;129;01mnot\u001b[39;00m \u001b[38;5;28mself\u001b[39m\u001b[38;5;241m.\u001b[39mis_connected():\n\u001b[0;32m--> 728\u001b[0m     \u001b[38;5;28;01mraise\u001b[39;00m OperationalError(\u001b[38;5;124m\"\u001b[39m\u001b[38;5;124mMySQL Connection not available.\u001b[39m\u001b[38;5;124m\"\u001b[39m)\n\u001b[1;32m    729\u001b[0m \u001b[38;5;28;01mif\u001b[39;00m cursor_class \u001b[38;5;129;01mis\u001b[39;00m \u001b[38;5;129;01mnot\u001b[39;00m \u001b[38;5;28;01mNone\u001b[39;00m:\n\u001b[1;32m    730\u001b[0m     \u001b[38;5;28;01mif\u001b[39;00m \u001b[38;5;129;01mnot\u001b[39;00m \u001b[38;5;28missubclass\u001b[39m(cursor_class, CMySQLCursor):\n",
      "\u001b[0;31mOperationalError\u001b[0m: MySQL Connection not available."
     ]
    }
   ],
   "source": [
    "sql_ex07 = \"\"\"\n",
    "ALTER TABLE orcamento ADD COLUMN ordem_id INT NOT NULL, ADD FOREIGN KEY (ordem_id) REFERENCES ordem_de_servico(ordem_id), MODIFY COLUMN total DECIMAL(10,2) NOT NULL;\n",
    "\"\"\"\n",
    "db(sql_ex07)"
   ]
  },
  {
   "cell_type": "markdown",
   "id": "7b4fce3a",
   "metadata": {},
   "source": [
    "Após testar localmente e considerar sua solução correta, faça o envio clicando no botão abaixo!"
   ]
  },
  {
   "cell_type": "code",
   "execution_count": 27,
   "id": "f0c5c9e3",
   "metadata": {},
   "outputs": [
    {
     "data": {
      "application/vnd.jupyter.widget-view+json": {
       "model_id": "0ecdddd79f7f44d5855e14235f5274db",
       "version_major": 2,
       "version_minor": 0
      },
      "text/plain": [
       "interactive(children=(Button(description='Enviar ex07', style=ButtonStyle()), Output()), _dom_classes=('widget…"
      ]
     },
     "execution_count": 27,
     "metadata": {},
     "output_type": "execute_result"
    }
   ],
   "source": [
    "ia.sender(answer=\"sql_ex07\", task=\"ai_md_24_1\", question=\"ex07\", answer_type=\"pyvar\")"
   ]
  },
  {
   "cell_type": "markdown",
   "id": "b92ff0ce",
   "metadata": {},
   "source": [
    "### Conferindo as notas!"
   ]
  },
  {
   "cell_type": "code",
   "execution_count": 40,
   "id": "0da6de09",
   "metadata": {},
   "outputs": [
    {
     "data": {
      "text/markdown": [
       "|    | Atividade   | Exercício   |   Peso |   Nota |\n",
       "|---:|:------------|:------------|-------:|-------:|\n",
       "|  0 | ai_md_24_1  | ex01        |      2 |     10 |\n",
       "|  1 | ai_md_24_1  | ex02        |      2 |     10 |\n",
       "|  2 | ai_md_24_1  | ex03        |      2 |     10 |\n",
       "|  3 | ai_md_24_1  | ex04        |      2 |     10 |\n",
       "|  4 | ai_md_24_1  | ex05        |      4 |      0 |\n",
       "|  5 | ai_md_24_1  | ex06        |      2 |     10 |\n",
       "|  6 | ai_md_24_1  | ex07        |      2 |     10 |"
      ],
      "text/plain": [
       "<IPython.core.display.Markdown object>"
      ]
     },
     "metadata": {},
     "output_type": "display_data"
    }
   ],
   "source": [
    "ia.grades(task=\"ai_md_24_1\")"
   ]
  },
  {
   "cell_type": "markdown",
   "id": "4c902f7c",
   "metadata": {},
   "source": [
    "**Exercício 8**: O seu exercício cinco será conferido em relação a padronização do código SQL. Caso tudo esteja ok, você ganhará meio ponto!\n",
    "\n",
    "Cole a melhor versão da sua resposta do ex 5 onde indicado logo abaixo. Faça isto mesmo que não tenha passado nos testes!\n",
    "\n",
    "A conferência levará em conta:\n",
    "- Se a query está formatada:\n",
    "    - Padrão de maiúsculas e minúsculas\n",
    "    - Tabulações e quebras de linhas, sem linhas muito longas\n",
    "- Se utiliza *alias* nas tabelas."
   ]
  },
  {
   "cell_type": "markdown",
   "id": "9ae2c174",
   "metadata": {
    "scrolled": true
   },
   "source": [
    "```sql\n",
    "-- Dê dois cliques AQUI!\n",
    "-- Cole a melhor versão da sua query do Ex 5, mesmo que não esteja completamente correta!\n",
    "```"
   ]
  },
  {
   "cell_type": "markdown",
   "id": "8acfd788",
   "metadata": {},
   "source": [
    "## Parte 2 - Compartilhamento de Caronas\n",
    "\n",
    "Você foi contratado pelo Insper para atuar na área de mobilidade urbana. Você deve desenvolver um sistema de compartilhamento de caronas para facilitar o deslocamento dos usuários na cidade, reduzindo o tráfego e contribuindo para a sustentabilidade.\n",
    "\n",
    "Em conversas com a empresa, você levantou as seguintes informações sobre o domínio de negócio:\n",
    "\n",
    "- Deve ser possível cadastrar usuários e veículos.\n",
    "- Os passageiros e motoristas (usuários) podem ser alunos, professores ou funcionários do Insper. É necessário manter um cadastro dos passageiros, indicando sua afiliação com a universidade.\n",
    "- Um veículo pode ser dirigido por mais de um usuário (ex: veículo compartilhado por pais e irmãos).\n",
    "- Os usuários podem oferecer caronas ou solicitar caronas.\n",
    "- Cada carona possui uma data e um horário de partida, uma origem e um destino dentro da cidade de São Paulo.\n",
    "- Para cada carona, é necessário registrar o motorista responsável pela oferta da carona e o veículo a ser utilizado.\n",
    "- Os usuários podem ser motoristas em algumas caronas e passageiros em outras.\n",
    "- Um usuário pode oferecer várias caronas.\n",
    "- Uma carona pode ter vagas para vários usuários (o oferecedor da carona define o limite).\n",
    "- Além disso, é importante poder identificar os passageiros que irão utilizar as caronas.\n",
    "\n",
    "A empresa deseja implementar um sistema digital para facilitar o compartilhamento de caronas, permitindo que os usuários possam oferecer e solicitar caronas de forma eficiente."
   ]
  },
  {
   "cell_type": "markdown",
   "id": "87a72d7f",
   "metadata": {},
   "source": [
    "**Exercício 9**: Desenhe o diagrama do modelo relacional com uma solução para o problema. Não esqueça de indicar claramente os tipos, chaves primárias, chaves estrangeiras, e a cardinalidade dos relacionamentos.\n",
    "\n",
    "**Obs:** Salve a imagem do diagrama na pasta `img`. Edite na resposta o caminho para a imagem!"
   ]
  },
  {
   "cell_type": "markdown",
   "id": "f20e9048",
   "metadata": {},
   "source": [
    "<div class=\"alert alert-success\">\n",
    "    \n",
    "Edite na resposta o caminho para a imagem!\n",
    "    \n",
    "<img src=\"img/diag3.png\">\n",
    "\n",
    "</div>"
   ]
  },
  {
   "cell_type": "markdown",
   "id": "a795d1da",
   "metadata": {},
   "source": [
    "**Opcional**: caso julgue necessário, utilize o bloco abaixo para justificar decisões tomadas no desenho do diagrama."
   ]
  },
  {
   "cell_type": "markdown",
   "id": "59ec78d3",
   "metadata": {},
   "source": [
    "<div class=\"alert alert-success\">\n",
    "    \n",
    "Seu texto AQUI!\n",
    "\n",
    "\n",
    "Para montar esse diagrama optei por separar os tipos de cadastros por exigirem campos direrente. Quanto os usuários passageiros decidi deixar a relação na tabela carona_has_passageiro onde cada conjunto é único, para que não tenha repetição de passageiro na viagem. \n",
    "\n",
    "</div>"
   ]
  },
  {
   "cell_type": "markdown",
   "id": "b0fb57a5",
   "metadata": {},
   "source": [
    "**Exercício 10**: Discorra sobre armazenamento informações como senhas em tabelas de bancos de dados.\n",
    "\n",
    "Esta questão será corrigida considerando a seguinte subrica:\n",
    "| Conceito | Nota | Descrição                                                                                                                                               |\n",
    "|:----------:|----------:|:---------------------------------------------------------------------------------------------------------------------------------------------------------|\n",
    "| I        | 0.0 |Apenas citou o assunto ou alguns fatos sem explicações                                                                                                  |\n",
    "| D        | 0.3 |Explicou superficialmente o assunto ou fatos mas sem muitos detalhes conclusivos                                                                        |\n",
    "| C        | 0.6 |Explicou com detalhes, apresentando definições concretas.                                                                                               |\n",
    "| B        | 0.8 |Explicou com detalhes, apresentando definições concretas e exemplos de uso.                                                                            |\n",
    "| A        | 1.0 |Explicou com detalhes, apresentando definições concretas, exemplos de uso e ainda outros tópicos correlatos, fazendo uma conexão lógica entre eles. |"
   ]
  },
  {
   "cell_type": "markdown",
   "id": "f3b863f4",
   "metadata": {},
   "source": [
    "<div class=\"alert alert-success\">\n",
    "\n",
    "Sua resposta AQUI! :\n",
    "\n",
    "\n",
    "Ao armazenar senhas em bancos de dados é necessário achar um meio para que seja fácil de encriptar para guardar mas muito difícil de fazer o processo inverso, dessa forma ao guardar senhas e outras informações sensíveis em banco de dados normalmente utilizamos algum algoritmo de hash, assim a senha fica segura de pessoas mal intencionadas.\n",
    "\n",
    "</div>"
   ]
  },
  {
   "cell_type": "markdown",
   "id": "cc63d0f3",
   "metadata": {},
   "source": [
    "## Entrega!\n",
    "\n",
    "É hora de entregar. Faça um **zip** do notebook + imagens chamado `ai_megadados.zip` e submeta no Blackboard!\n",
    "\n",
    "**Obs**:\n",
    "- `zip`, não use `rar`!\n",
    "- Não precisa entregar os scripts fornecidos pelo professor (pasta scripts)"
   ]
  },
  {
   "cell_type": "markdown",
   "id": "aab37e84",
   "metadata": {},
   "source": []
  },
  {
   "cell_type": "markdown",
   "id": "29531bb8",
   "metadata": {},
   "source": []
  }
 ],
 "metadata": {
  "kernelspec": {
   "display_name": "Python 3 (ipykernel)",
   "language": "python",
   "name": "python3"
  },
  "language_info": {
   "codemirror_mode": {
    "name": "ipython",
    "version": 3
   },
   "file_extension": ".py",
   "mimetype": "text/x-python",
   "name": "python",
   "nbconvert_exporter": "python",
   "pygments_lexer": "ipython3",
   "version": "3.12.2"
  }
 },
 "nbformat": 4,
 "nbformat_minor": 5
}
